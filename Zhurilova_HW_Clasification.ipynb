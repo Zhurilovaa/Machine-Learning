{
 "cells": [
  {
   "cell_type": "markdown",
   "id": "5a06909c",
   "metadata": {},
   "source": [
    "## Работу выполнила студентка группы 381803-1 Журилова Анастасия"
   ]
  },
  {
   "cell_type": "code",
   "execution_count": 1,
   "id": "0c931e48",
   "metadata": {},
   "outputs": [],
   "source": [
    " # Массивы (матрицы, векторы, линейная алгебра)\n",
    "import numpy as np\n",
    "\n",
    "# Научная графика\n",
    "import matplotlib.pyplot as plt\n",
    "\n",
    "# Таблицы и временные ряды (dataframe, series)\n",
    "import pandas as pd\n",
    "\n",
    " # Еще больше красивой графики для визуализации данных\n",
    "import seaborn as sns\n",
    "\n",
    " # Говорим jupyter'у, чтобы весь графический вывод был в браузере, а не в отдельном окне\n",
    "%matplotlib inline"
   ]
  },
  {
   "cell_type": "markdown",
   "id": "d26df75d",
   "metadata": {},
   "source": [
    "## 0. Описание задачи (постановка)\n",
    "В банке произошло снижение доходов. После анализа данной ситуации эксперты пришли к выводу, что основная причина заключается в том, что клиенты банка недостаточно инвестировали для долгосрочных депозитов. Соответсвенно, цель задачи: выявить существующих клиентов, у которых больше шансов оформить подписку на долгосрочный депозит, и сосредоточить маркетинговые усилия на таких клиентах.\n",
    "Т.е. цель классификации состоит в том, чтобы предсказать, подпишется ли клиент (да/нет) на срочный депозит (переменная y).\n",
    "Набор данных содержит обучающие и тестовые данные. "
   ]
  },
  {
   "cell_type": "markdown",
   "id": "46326583",
   "metadata": {},
   "source": [
    "## 1.Прочитать данные"
   ]
  },
  {
   "cell_type": "markdown",
   "id": "8bbe78df",
   "metadata": {},
   "source": [
    "Выведем таблицу с данным и проанализируем имеющиеся признаки."
   ]
  },
  {
   "cell_type": "code",
   "execution_count": 2,
   "id": "7ee15342",
   "metadata": {},
   "outputs": [],
   "source": [
    "data = pd.read_csv('new_train.csv')"
   ]
  },
  {
   "cell_type": "code",
   "execution_count": 3,
   "id": "0b67b89d",
   "metadata": {},
   "outputs": [
    {
     "data": {
      "text/html": [
       "<div>\n",
       "<style scoped>\n",
       "    .dataframe tbody tr th:only-of-type {\n",
       "        vertical-align: middle;\n",
       "    }\n",
       "\n",
       "    .dataframe tbody tr th {\n",
       "        vertical-align: top;\n",
       "    }\n",
       "\n",
       "    .dataframe thead th {\n",
       "        text-align: right;\n",
       "    }\n",
       "</style>\n",
       "<table border=\"1\" class=\"dataframe\">\n",
       "  <thead>\n",
       "    <tr style=\"text-align: right;\">\n",
       "      <th></th>\n",
       "      <th>age</th>\n",
       "      <th>job</th>\n",
       "      <th>marital</th>\n",
       "      <th>education</th>\n",
       "      <th>default</th>\n",
       "      <th>housing</th>\n",
       "      <th>loan</th>\n",
       "      <th>contact</th>\n",
       "      <th>month</th>\n",
       "      <th>day_of_week</th>\n",
       "      <th>duration</th>\n",
       "      <th>campaign</th>\n",
       "      <th>pdays</th>\n",
       "      <th>previous</th>\n",
       "      <th>poutcome</th>\n",
       "      <th>y</th>\n",
       "    </tr>\n",
       "  </thead>\n",
       "  <tbody>\n",
       "    <tr>\n",
       "      <th>0</th>\n",
       "      <td>49</td>\n",
       "      <td>blue-collar</td>\n",
       "      <td>married</td>\n",
       "      <td>basic.9y</td>\n",
       "      <td>unknown</td>\n",
       "      <td>no</td>\n",
       "      <td>no</td>\n",
       "      <td>cellular</td>\n",
       "      <td>nov</td>\n",
       "      <td>wed</td>\n",
       "      <td>227</td>\n",
       "      <td>4</td>\n",
       "      <td>999</td>\n",
       "      <td>0</td>\n",
       "      <td>nonexistent</td>\n",
       "      <td>no</td>\n",
       "    </tr>\n",
       "    <tr>\n",
       "      <th>1</th>\n",
       "      <td>37</td>\n",
       "      <td>entrepreneur</td>\n",
       "      <td>married</td>\n",
       "      <td>university.degree</td>\n",
       "      <td>no</td>\n",
       "      <td>no</td>\n",
       "      <td>no</td>\n",
       "      <td>telephone</td>\n",
       "      <td>nov</td>\n",
       "      <td>wed</td>\n",
       "      <td>202</td>\n",
       "      <td>2</td>\n",
       "      <td>999</td>\n",
       "      <td>1</td>\n",
       "      <td>failure</td>\n",
       "      <td>no</td>\n",
       "    </tr>\n",
       "    <tr>\n",
       "      <th>2</th>\n",
       "      <td>78</td>\n",
       "      <td>retired</td>\n",
       "      <td>married</td>\n",
       "      <td>basic.4y</td>\n",
       "      <td>no</td>\n",
       "      <td>no</td>\n",
       "      <td>no</td>\n",
       "      <td>cellular</td>\n",
       "      <td>jul</td>\n",
       "      <td>mon</td>\n",
       "      <td>1148</td>\n",
       "      <td>1</td>\n",
       "      <td>999</td>\n",
       "      <td>0</td>\n",
       "      <td>nonexistent</td>\n",
       "      <td>yes</td>\n",
       "    </tr>\n",
       "    <tr>\n",
       "      <th>3</th>\n",
       "      <td>36</td>\n",
       "      <td>admin.</td>\n",
       "      <td>married</td>\n",
       "      <td>university.degree</td>\n",
       "      <td>no</td>\n",
       "      <td>yes</td>\n",
       "      <td>no</td>\n",
       "      <td>telephone</td>\n",
       "      <td>may</td>\n",
       "      <td>mon</td>\n",
       "      <td>120</td>\n",
       "      <td>2</td>\n",
       "      <td>999</td>\n",
       "      <td>0</td>\n",
       "      <td>nonexistent</td>\n",
       "      <td>no</td>\n",
       "    </tr>\n",
       "    <tr>\n",
       "      <th>4</th>\n",
       "      <td>59</td>\n",
       "      <td>retired</td>\n",
       "      <td>divorced</td>\n",
       "      <td>university.degree</td>\n",
       "      <td>no</td>\n",
       "      <td>no</td>\n",
       "      <td>no</td>\n",
       "      <td>cellular</td>\n",
       "      <td>jun</td>\n",
       "      <td>tue</td>\n",
       "      <td>368</td>\n",
       "      <td>2</td>\n",
       "      <td>999</td>\n",
       "      <td>0</td>\n",
       "      <td>nonexistent</td>\n",
       "      <td>no</td>\n",
       "    </tr>\n",
       "    <tr>\n",
       "      <th>...</th>\n",
       "      <td>...</td>\n",
       "      <td>...</td>\n",
       "      <td>...</td>\n",
       "      <td>...</td>\n",
       "      <td>...</td>\n",
       "      <td>...</td>\n",
       "      <td>...</td>\n",
       "      <td>...</td>\n",
       "      <td>...</td>\n",
       "      <td>...</td>\n",
       "      <td>...</td>\n",
       "      <td>...</td>\n",
       "      <td>...</td>\n",
       "      <td>...</td>\n",
       "      <td>...</td>\n",
       "      <td>...</td>\n",
       "    </tr>\n",
       "    <tr>\n",
       "      <th>32945</th>\n",
       "      <td>28</td>\n",
       "      <td>services</td>\n",
       "      <td>single</td>\n",
       "      <td>high.school</td>\n",
       "      <td>no</td>\n",
       "      <td>yes</td>\n",
       "      <td>no</td>\n",
       "      <td>cellular</td>\n",
       "      <td>jul</td>\n",
       "      <td>tue</td>\n",
       "      <td>192</td>\n",
       "      <td>1</td>\n",
       "      <td>999</td>\n",
       "      <td>0</td>\n",
       "      <td>nonexistent</td>\n",
       "      <td>no</td>\n",
       "    </tr>\n",
       "    <tr>\n",
       "      <th>32946</th>\n",
       "      <td>52</td>\n",
       "      <td>technician</td>\n",
       "      <td>married</td>\n",
       "      <td>professional.course</td>\n",
       "      <td>no</td>\n",
       "      <td>yes</td>\n",
       "      <td>no</td>\n",
       "      <td>cellular</td>\n",
       "      <td>nov</td>\n",
       "      <td>fri</td>\n",
       "      <td>64</td>\n",
       "      <td>1</td>\n",
       "      <td>999</td>\n",
       "      <td>1</td>\n",
       "      <td>failure</td>\n",
       "      <td>no</td>\n",
       "    </tr>\n",
       "    <tr>\n",
       "      <th>32947</th>\n",
       "      <td>54</td>\n",
       "      <td>admin.</td>\n",
       "      <td>married</td>\n",
       "      <td>basic.9y</td>\n",
       "      <td>no</td>\n",
       "      <td>no</td>\n",
       "      <td>yes</td>\n",
       "      <td>cellular</td>\n",
       "      <td>jul</td>\n",
       "      <td>mon</td>\n",
       "      <td>131</td>\n",
       "      <td>4</td>\n",
       "      <td>999</td>\n",
       "      <td>0</td>\n",
       "      <td>nonexistent</td>\n",
       "      <td>no</td>\n",
       "    </tr>\n",
       "    <tr>\n",
       "      <th>32948</th>\n",
       "      <td>29</td>\n",
       "      <td>admin.</td>\n",
       "      <td>married</td>\n",
       "      <td>university.degree</td>\n",
       "      <td>no</td>\n",
       "      <td>no</td>\n",
       "      <td>no</td>\n",
       "      <td>telephone</td>\n",
       "      <td>may</td>\n",
       "      <td>fri</td>\n",
       "      <td>165</td>\n",
       "      <td>1</td>\n",
       "      <td>999</td>\n",
       "      <td>0</td>\n",
       "      <td>nonexistent</td>\n",
       "      <td>no</td>\n",
       "    </tr>\n",
       "    <tr>\n",
       "      <th>32949</th>\n",
       "      <td>35</td>\n",
       "      <td>admin.</td>\n",
       "      <td>married</td>\n",
       "      <td>university.degree</td>\n",
       "      <td>no</td>\n",
       "      <td>no</td>\n",
       "      <td>yes</td>\n",
       "      <td>telephone</td>\n",
       "      <td>jun</td>\n",
       "      <td>tue</td>\n",
       "      <td>544</td>\n",
       "      <td>3</td>\n",
       "      <td>999</td>\n",
       "      <td>0</td>\n",
       "      <td>nonexistent</td>\n",
       "      <td>no</td>\n",
       "    </tr>\n",
       "  </tbody>\n",
       "</table>\n",
       "<p>32950 rows × 16 columns</p>\n",
       "</div>"
      ],
      "text/plain": [
       "       age           job   marital            education  default housing loan  \\\n",
       "0       49   blue-collar   married             basic.9y  unknown      no   no   \n",
       "1       37  entrepreneur   married    university.degree       no      no   no   \n",
       "2       78       retired   married             basic.4y       no      no   no   \n",
       "3       36        admin.   married    university.degree       no     yes   no   \n",
       "4       59       retired  divorced    university.degree       no      no   no   \n",
       "...    ...           ...       ...                  ...      ...     ...  ...   \n",
       "32945   28      services    single          high.school       no     yes   no   \n",
       "32946   52    technician   married  professional.course       no     yes   no   \n",
       "32947   54        admin.   married             basic.9y       no      no  yes   \n",
       "32948   29        admin.   married    university.degree       no      no   no   \n",
       "32949   35        admin.   married    university.degree       no      no  yes   \n",
       "\n",
       "         contact month day_of_week  duration  campaign  pdays  previous  \\\n",
       "0       cellular   nov         wed       227         4    999         0   \n",
       "1      telephone   nov         wed       202         2    999         1   \n",
       "2       cellular   jul         mon      1148         1    999         0   \n",
       "3      telephone   may         mon       120         2    999         0   \n",
       "4       cellular   jun         tue       368         2    999         0   \n",
       "...          ...   ...         ...       ...       ...    ...       ...   \n",
       "32945   cellular   jul         tue       192         1    999         0   \n",
       "32946   cellular   nov         fri        64         1    999         1   \n",
       "32947   cellular   jul         mon       131         4    999         0   \n",
       "32948  telephone   may         fri       165         1    999         0   \n",
       "32949  telephone   jun         tue       544         3    999         0   \n",
       "\n",
       "          poutcome    y  \n",
       "0      nonexistent   no  \n",
       "1          failure   no  \n",
       "2      nonexistent  yes  \n",
       "3      nonexistent   no  \n",
       "4      nonexistent   no  \n",
       "...            ...  ...  \n",
       "32945  nonexistent   no  \n",
       "32946      failure   no  \n",
       "32947  nonexistent   no  \n",
       "32948  nonexistent   no  \n",
       "32949  nonexistent   no  \n",
       "\n",
       "[32950 rows x 16 columns]"
      ]
     },
     "execution_count": 3,
     "metadata": {},
     "output_type": "execute_result"
    }
   ],
   "source": [
    "data"
   ]
  },
  {
   "cell_type": "markdown",
   "id": "6a6fb9fe",
   "metadata": {},
   "source": [
    "Таблица содержит данные о более 30 тысяч клиентов банка. Для каждого клиента указаны значения некоторых признаков.\n",
    "\n",
    "Посмотрим на размеры таблицы."
   ]
  },
  {
   "cell_type": "code",
   "execution_count": 4,
   "id": "a9add555",
   "metadata": {},
   "outputs": [
    {
     "data": {
      "text/plain": [
       "(32950, 16)"
      ]
     },
     "execution_count": 4,
     "metadata": {},
     "output_type": "execute_result"
    }
   ],
   "source": [
    "data.shape"
   ]
  },
  {
   "cell_type": "markdown",
   "id": "530ae002",
   "metadata": {},
   "source": [
    "А таперь на все колонки = признаки."
   ]
  },
  {
   "cell_type": "code",
   "execution_count": 5,
   "id": "fc7e5d75",
   "metadata": {},
   "outputs": [
    {
     "data": {
      "text/plain": [
       "Index(['age', 'job', 'marital', 'education', 'default', 'housing', 'loan',\n",
       "       'contact', 'month', 'day_of_week', 'duration', 'campaign', 'pdays',\n",
       "       'previous', 'poutcome', 'y'],\n",
       "      dtype='object')"
      ]
     },
     "execution_count": 5,
     "metadata": {},
     "output_type": "execute_result"
    }
   ],
   "source": [
    "data.columns"
   ]
  },
  {
   "cell_type": "markdown",
   "id": "468ba32a",
   "metadata": {},
   "source": [
    "#### Всего имеется 16 признаков:\n",
    "\n",
    "- **age** - возраст клиента\n",
    "- **job** -\tвид работы клиента\n",
    "- **marital** -\tсемейное положение\t\n",
    "- **education** - образование клиента\t\n",
    "- **default** -\tналичие кредина у клиента (да, нет, неизвестно)\t\n",
    "- **housing** -\tналичие жилищного кредита (да, нет, неизвестно)\n",
    "- **loan** - наличие заёмов\n",
    "- **contact** -\tтип контактной связи\n",
    "- **month** - последний месяц, когда связывались с клиентом\n",
    "- **dayofweek** - последний день недели, когда связывались с клиентом\n",
    "- **duration** - продолжительность последнего контакта, в секундах.(Важное примечание: этот атрибут сильно влияет на конечный результат (например, если длительность =0, то y= \"нет\"))\n",
    "- **campaign** -количество контактов, осуществленных в ходе данной кампании и для данного клиента (включая последний контакт)\n",
    "- **pdays** - количество дней, прошедших с момента последнего контакта с клиентом из предыдущей кампании (999 означает, что с клиентом ранее не связывались)\t\t\n",
    "- **previous** - количество контактов, совершенных до этой кампании и для этого клиента\n",
    "- **poutcome** - результат предыдущей маркетинговой кампании (\"неудача\", \"несуществующий\", \"успех\")\n",
    "- **y** - оформил ли клиент срочный депозит? (\"да\", \"нет\")"
   ]
  },
  {
   "cell_type": "markdown",
   "id": "0a3c96b0",
   "metadata": {},
   "source": [
    "Выведем тип данных всех столбцов, представленных в таблице:"
   ]
  },
  {
   "cell_type": "code",
   "execution_count": 6,
   "id": "d17f17e0",
   "metadata": {},
   "outputs": [
    {
     "data": {
      "text/plain": [
       "age             int64\n",
       "job            object\n",
       "marital        object\n",
       "education      object\n",
       "default        object\n",
       "housing        object\n",
       "loan           object\n",
       "contact        object\n",
       "month          object\n",
       "day_of_week    object\n",
       "duration        int64\n",
       "campaign        int64\n",
       "pdays           int64\n",
       "previous        int64\n",
       "poutcome       object\n",
       "y              object\n",
       "dtype: object"
      ]
     },
     "execution_count": 6,
     "metadata": {},
     "output_type": "execute_result"
    }
   ],
   "source": [
    "data.dtypes"
   ]
  },
  {
   "cell_type": "markdown",
   "id": "1c717024",
   "metadata": {},
   "source": [
    "Видим, что 11 признаков имеют тип данных \"Object\". Заменим тип на специальный, предназначенный для хранения категориальных значений, а также изменим тип данных для бинарных признаков:"
   ]
  },
  {
   "cell_type": "code",
   "execution_count": 7,
   "id": "5544a615",
   "metadata": {},
   "outputs": [],
   "source": [
    "data[\"job\"] = data[\"job\"].astype('category')\n",
    "data[\"marital\"] = data[\"marital\"].astype('category')\n",
    "data[\"education\"] = data[\"education\"].astype('category')\n",
    "data[\"default\"] = data[\"default\"].astype('category')\n",
    "data[\"housing\"] = data[\"housing\"].astype('category')\n",
    "data[\"loan\"] = data[\"loan\"].astype('category')\n",
    "data[\"contact\"] = data[\"contact\"].astype('category')\n",
    "data[\"month\"] = data[\"month\"].astype('category')\n",
    "data[\"day_of_week\"] = data[\"day_of_week\"].astype('category')\n",
    "data[\"poutcome\"] = data[\"poutcome\"].astype('category')\n",
    "\n",
    "#Превратим y в 1, если \"да\", в 0 если \"нет\"\n",
    "if type(data.y.iloc[0]) == str:\n",
    "    data['y'] = data['y'].apply(lambda x: 1 if x == \"yes\" else (0 if x == \"no\" else np.na))"
   ]
  },
  {
   "cell_type": "code",
   "execution_count": 8,
   "id": "0a3943b8",
   "metadata": {},
   "outputs": [
    {
     "data": {
      "text/plain": [
       "(CategoricalDtype(categories=['admin.', 'blue-collar', 'entrepreneur', 'housemaid',\n",
       "                   'management', 'retired', 'self-employed', 'services',\n",
       "                   'student', 'technician', 'unemployed', 'unknown'],\n",
       " , ordered=False),\n",
       " CategoricalDtype(categories=['divorced', 'married', 'single', 'unknown'], ordered=False),\n",
       " CategoricalDtype(categories=['basic.4y', 'basic.6y', 'basic.9y', 'high.school',\n",
       "                   'illiterate', 'professional.course', 'university.degree',\n",
       "                   'unknown'],\n",
       " , ordered=False),\n",
       " CategoricalDtype(categories=['no', 'unknown', 'yes'], ordered=False),\n",
       " CategoricalDtype(categories=['no', 'unknown', 'yes'], ordered=False),\n",
       " CategoricalDtype(categories=['no', 'unknown', 'yes'], ordered=False),\n",
       " CategoricalDtype(categories=['apr', 'aug', 'dec', 'jul', 'jun', 'mar', 'may', 'nov',\n",
       "                   'oct', 'sep'],\n",
       " , ordered=False),\n",
       " CategoricalDtype(categories=['fri', 'mon', 'thu', 'tue', 'wed'], ordered=False),\n",
       " CategoricalDtype(categories=['failure', 'nonexistent', 'success'], ordered=False),\n",
       " dtype('int64'))"
      ]
     },
     "execution_count": 8,
     "metadata": {},
     "output_type": "execute_result"
    }
   ],
   "source": [
    "data[\"job\"].dtype, data[\"marital\"].dtype, data[\"education\"].dtype, data[\"default\"].dtype, data[\"housing\"].dtype, data[\"loan\"].dtype, data[\"month\"].dtype, data[\"day_of_week\"].dtype, data[\"poutcome\"].dtype, data[\"y\"].dtype"
   ]
  },
  {
   "cell_type": "markdown",
   "id": "2dcca0b8",
   "metadata": {},
   "source": [
    "## 2. Визуализация данных"
   ]
  },
  {
   "cell_type": "markdown",
   "id": "2563478c",
   "metadata": {},
   "source": [
    "Получим визуализацию наших данных, а так же сводную информацию о количественных признаках. Найдем средние значения, стандартное отклонение, минимальное и макимальное значения, медиану и значения квартилей:"
   ]
  },
  {
   "cell_type": "code",
   "execution_count": 9,
   "id": "0da9ce44",
   "metadata": {
    "scrolled": true
   },
   "outputs": [
    {
     "data": {
      "text/html": [
       "<div>\n",
       "<style scoped>\n",
       "    .dataframe tbody tr th:only-of-type {\n",
       "        vertical-align: middle;\n",
       "    }\n",
       "\n",
       "    .dataframe tbody tr th {\n",
       "        vertical-align: top;\n",
       "    }\n",
       "\n",
       "    .dataframe thead th {\n",
       "        text-align: right;\n",
       "    }\n",
       "</style>\n",
       "<table border=\"1\" class=\"dataframe\">\n",
       "  <thead>\n",
       "    <tr style=\"text-align: right;\">\n",
       "      <th></th>\n",
       "      <th>age</th>\n",
       "      <th>duration</th>\n",
       "      <th>campaign</th>\n",
       "      <th>pdays</th>\n",
       "      <th>previous</th>\n",
       "      <th>y</th>\n",
       "    </tr>\n",
       "  </thead>\n",
       "  <tbody>\n",
       "    <tr>\n",
       "      <th>count</th>\n",
       "      <td>32950.000000</td>\n",
       "      <td>32950.000000</td>\n",
       "      <td>32950.000000</td>\n",
       "      <td>32950.000000</td>\n",
       "      <td>32950.000000</td>\n",
       "      <td>32950.000000</td>\n",
       "    </tr>\n",
       "    <tr>\n",
       "      <th>mean</th>\n",
       "      <td>40.014112</td>\n",
       "      <td>258.127466</td>\n",
       "      <td>2.560607</td>\n",
       "      <td>962.052413</td>\n",
       "      <td>0.174719</td>\n",
       "      <td>0.112656</td>\n",
       "    </tr>\n",
       "    <tr>\n",
       "      <th>std</th>\n",
       "      <td>10.403636</td>\n",
       "      <td>258.975917</td>\n",
       "      <td>2.752326</td>\n",
       "      <td>187.951096</td>\n",
       "      <td>0.499025</td>\n",
       "      <td>0.316176</td>\n",
       "    </tr>\n",
       "    <tr>\n",
       "      <th>min</th>\n",
       "      <td>17.000000</td>\n",
       "      <td>0.000000</td>\n",
       "      <td>1.000000</td>\n",
       "      <td>0.000000</td>\n",
       "      <td>0.000000</td>\n",
       "      <td>0.000000</td>\n",
       "    </tr>\n",
       "    <tr>\n",
       "      <th>25%</th>\n",
       "      <td>32.000000</td>\n",
       "      <td>103.000000</td>\n",
       "      <td>1.000000</td>\n",
       "      <td>999.000000</td>\n",
       "      <td>0.000000</td>\n",
       "      <td>0.000000</td>\n",
       "    </tr>\n",
       "    <tr>\n",
       "      <th>50%</th>\n",
       "      <td>38.000000</td>\n",
       "      <td>180.000000</td>\n",
       "      <td>2.000000</td>\n",
       "      <td>999.000000</td>\n",
       "      <td>0.000000</td>\n",
       "      <td>0.000000</td>\n",
       "    </tr>\n",
       "    <tr>\n",
       "      <th>75%</th>\n",
       "      <td>47.000000</td>\n",
       "      <td>319.000000</td>\n",
       "      <td>3.000000</td>\n",
       "      <td>999.000000</td>\n",
       "      <td>0.000000</td>\n",
       "      <td>0.000000</td>\n",
       "    </tr>\n",
       "    <tr>\n",
       "      <th>max</th>\n",
       "      <td>98.000000</td>\n",
       "      <td>4918.000000</td>\n",
       "      <td>56.000000</td>\n",
       "      <td>999.000000</td>\n",
       "      <td>7.000000</td>\n",
       "      <td>1.000000</td>\n",
       "    </tr>\n",
       "  </tbody>\n",
       "</table>\n",
       "</div>"
      ],
      "text/plain": [
       "                age      duration      campaign         pdays      previous  \\\n",
       "count  32950.000000  32950.000000  32950.000000  32950.000000  32950.000000   \n",
       "mean      40.014112    258.127466      2.560607    962.052413      0.174719   \n",
       "std       10.403636    258.975917      2.752326    187.951096      0.499025   \n",
       "min       17.000000      0.000000      1.000000      0.000000      0.000000   \n",
       "25%       32.000000    103.000000      1.000000    999.000000      0.000000   \n",
       "50%       38.000000    180.000000      2.000000    999.000000      0.000000   \n",
       "75%       47.000000    319.000000      3.000000    999.000000      0.000000   \n",
       "max       98.000000   4918.000000     56.000000    999.000000      7.000000   \n",
       "\n",
       "                  y  \n",
       "count  32950.000000  \n",
       "mean       0.112656  \n",
       "std        0.316176  \n",
       "min        0.000000  \n",
       "25%        0.000000  \n",
       "50%        0.000000  \n",
       "75%        0.000000  \n",
       "max        1.000000  "
      ]
     },
     "execution_count": 9,
     "metadata": {},
     "output_type": "execute_result"
    }
   ],
   "source": [
    "des = data.describe()\n",
    "des\n",
    "#data.describe()"
   ]
  },
  {
   "cell_type": "markdown",
   "id": "40a0b15d",
   "metadata": {},
   "source": [
    "Учитывая данные таблицы, можно сделать несколько выводов:\n",
    "большинство клиентов банка редко выходили на связь или вообще не имели контактов с банком, так же большинство клиентов  - это люди среднего возраста и продолжительность контакта (т.е. разговора с банком, если он и был) не превышает 5-10 минут. При чем до этого с этими клиентами в большинстве своём вообще не связывались.\n",
    "\n",
    "При этом, максимальное время разговора составляет примерно 81 минуту, а максимальное количесвто звонков клиенту достигает 56."
   ]
  },
  {
   "cell_type": "markdown",
   "id": "f206980f",
   "metadata": {},
   "source": [
    "Получим информацию о категориальных признаках:"
   ]
  },
  {
   "cell_type": "code",
   "execution_count": 10,
   "id": "10f45f18",
   "metadata": {
    "scrolled": false
   },
   "outputs": [
    {
     "data": {
      "text/html": [
       "<div>\n",
       "<style scoped>\n",
       "    .dataframe tbody tr th:only-of-type {\n",
       "        vertical-align: middle;\n",
       "    }\n",
       "\n",
       "    .dataframe tbody tr th {\n",
       "        vertical-align: top;\n",
       "    }\n",
       "\n",
       "    .dataframe thead th {\n",
       "        text-align: right;\n",
       "    }\n",
       "</style>\n",
       "<table border=\"1\" class=\"dataframe\">\n",
       "  <thead>\n",
       "    <tr style=\"text-align: right;\">\n",
       "      <th></th>\n",
       "      <th>job</th>\n",
       "      <th>marital</th>\n",
       "      <th>education</th>\n",
       "      <th>default</th>\n",
       "      <th>housing</th>\n",
       "      <th>loan</th>\n",
       "      <th>contact</th>\n",
       "      <th>month</th>\n",
       "      <th>day_of_week</th>\n",
       "      <th>poutcome</th>\n",
       "    </tr>\n",
       "  </thead>\n",
       "  <tbody>\n",
       "    <tr>\n",
       "      <th>count</th>\n",
       "      <td>32950</td>\n",
       "      <td>32950</td>\n",
       "      <td>32950</td>\n",
       "      <td>32950</td>\n",
       "      <td>32950</td>\n",
       "      <td>32950</td>\n",
       "      <td>32950</td>\n",
       "      <td>32950</td>\n",
       "      <td>32950</td>\n",
       "      <td>32950</td>\n",
       "    </tr>\n",
       "    <tr>\n",
       "      <th>unique</th>\n",
       "      <td>12</td>\n",
       "      <td>4</td>\n",
       "      <td>8</td>\n",
       "      <td>3</td>\n",
       "      <td>3</td>\n",
       "      <td>3</td>\n",
       "      <td>2</td>\n",
       "      <td>10</td>\n",
       "      <td>5</td>\n",
       "      <td>3</td>\n",
       "    </tr>\n",
       "    <tr>\n",
       "      <th>top</th>\n",
       "      <td>admin.</td>\n",
       "      <td>married</td>\n",
       "      <td>university.degree</td>\n",
       "      <td>no</td>\n",
       "      <td>yes</td>\n",
       "      <td>no</td>\n",
       "      <td>cellular</td>\n",
       "      <td>may</td>\n",
       "      <td>thu</td>\n",
       "      <td>nonexistent</td>\n",
       "    </tr>\n",
       "    <tr>\n",
       "      <th>freq</th>\n",
       "      <td>8314</td>\n",
       "      <td>19953</td>\n",
       "      <td>9736</td>\n",
       "      <td>26007</td>\n",
       "      <td>17254</td>\n",
       "      <td>27131</td>\n",
       "      <td>20908</td>\n",
       "      <td>11011</td>\n",
       "      <td>6857</td>\n",
       "      <td>28416</td>\n",
       "    </tr>\n",
       "  </tbody>\n",
       "</table>\n",
       "</div>"
      ],
      "text/plain": [
       "           job  marital          education default housing   loan   contact  \\\n",
       "count    32950    32950              32950   32950   32950  32950     32950   \n",
       "unique      12        4                  8       3       3      3         2   \n",
       "top     admin.  married  university.degree      no     yes     no  cellular   \n",
       "freq      8314    19953               9736   26007   17254  27131     20908   \n",
       "\n",
       "        month day_of_week     poutcome  \n",
       "count   32950       32950        32950  \n",
       "unique     10           5            3  \n",
       "top       may         thu  nonexistent  \n",
       "freq    11011        6857        28416  "
      ]
     },
     "execution_count": 10,
     "metadata": {},
     "output_type": "execute_result"
    }
   ],
   "source": [
    "des2=data.describe(include=['category'])\n",
    "des2"
   ]
  },
  {
   "cell_type": "markdown",
   "id": "dd2bf248",
   "metadata": {},
   "source": [
    "В результате можно заметить, что почти 20 тысяч человек из 33 тысяч находятся в браке, 26 тысяч человек не имеют основных кредитов, но 17254 человека выплачивают кредит за жилпрощадь.\n",
    "А так же 28416 человек вообще не принимали участие в предыдущей компании."
   ]
  },
  {
   "cell_type": "markdown",
   "id": "8d28e49f",
   "metadata": {},
   "source": [
    "Для количественных и бинарных признаков построим матрицу корреляции:"
   ]
  },
  {
   "cell_type": "code",
   "execution_count": 11,
   "id": "2f1ec146",
   "metadata": {},
   "outputs": [
    {
     "data": {
      "text/html": [
       "<div>\n",
       "<style scoped>\n",
       "    .dataframe tbody tr th:only-of-type {\n",
       "        vertical-align: middle;\n",
       "    }\n",
       "\n",
       "    .dataframe tbody tr th {\n",
       "        vertical-align: top;\n",
       "    }\n",
       "\n",
       "    .dataframe thead th {\n",
       "        text-align: right;\n",
       "    }\n",
       "</style>\n",
       "<table border=\"1\" class=\"dataframe\">\n",
       "  <thead>\n",
       "    <tr style=\"text-align: right;\">\n",
       "      <th></th>\n",
       "      <th>age</th>\n",
       "      <th>duration</th>\n",
       "      <th>campaign</th>\n",
       "      <th>pdays</th>\n",
       "      <th>previous</th>\n",
       "      <th>y</th>\n",
       "    </tr>\n",
       "  </thead>\n",
       "  <tbody>\n",
       "    <tr>\n",
       "      <th>age</th>\n",
       "      <td>1.000000</td>\n",
       "      <td>-0.001841</td>\n",
       "      <td>0.003302</td>\n",
       "      <td>-0.032011</td>\n",
       "      <td>0.020670</td>\n",
       "      <td>0.028673</td>\n",
       "    </tr>\n",
       "    <tr>\n",
       "      <th>duration</th>\n",
       "      <td>-0.001841</td>\n",
       "      <td>1.000000</td>\n",
       "      <td>-0.075663</td>\n",
       "      <td>-0.047127</td>\n",
       "      <td>0.022538</td>\n",
       "      <td>0.400752</td>\n",
       "    </tr>\n",
       "    <tr>\n",
       "      <th>campaign</th>\n",
       "      <td>0.003302</td>\n",
       "      <td>-0.075663</td>\n",
       "      <td>1.000000</td>\n",
       "      <td>0.053795</td>\n",
       "      <td>-0.079051</td>\n",
       "      <td>-0.065462</td>\n",
       "    </tr>\n",
       "    <tr>\n",
       "      <th>pdays</th>\n",
       "      <td>-0.032011</td>\n",
       "      <td>-0.047127</td>\n",
       "      <td>0.053795</td>\n",
       "      <td>1.000000</td>\n",
       "      <td>-0.589601</td>\n",
       "      <td>-0.325539</td>\n",
       "    </tr>\n",
       "    <tr>\n",
       "      <th>previous</th>\n",
       "      <td>0.020670</td>\n",
       "      <td>0.022538</td>\n",
       "      <td>-0.079051</td>\n",
       "      <td>-0.589601</td>\n",
       "      <td>1.000000</td>\n",
       "      <td>0.229759</td>\n",
       "    </tr>\n",
       "    <tr>\n",
       "      <th>y</th>\n",
       "      <td>0.028673</td>\n",
       "      <td>0.400752</td>\n",
       "      <td>-0.065462</td>\n",
       "      <td>-0.325539</td>\n",
       "      <td>0.229759</td>\n",
       "      <td>1.000000</td>\n",
       "    </tr>\n",
       "  </tbody>\n",
       "</table>\n",
       "</div>"
      ],
      "text/plain": [
       "               age  duration  campaign     pdays  previous         y\n",
       "age       1.000000 -0.001841  0.003302 -0.032011  0.020670  0.028673\n",
       "duration -0.001841  1.000000 -0.075663 -0.047127  0.022538  0.400752\n",
       "campaign  0.003302 -0.075663  1.000000  0.053795 -0.079051 -0.065462\n",
       "pdays    -0.032011 -0.047127  0.053795  1.000000 -0.589601 -0.325539\n",
       "previous  0.020670  0.022538 -0.079051 -0.589601  1.000000  0.229759\n",
       "y         0.028673  0.400752 -0.065462 -0.325539  0.229759  1.000000"
      ]
     },
     "execution_count": 11,
     "metadata": {},
     "output_type": "execute_result"
    }
   ],
   "source": [
    "data_corr = data.corr()\n",
    "data_corr"
   ]
  },
  {
   "cell_type": "markdown",
   "id": "a316caea",
   "metadata": {},
   "source": [
    "Видим, что наиболее коррелирующие с признаком \"y\" являются признаки \"duration\", \"pdays\", \"previous\". Причем  \"pdays\"коррелируeт со знаком минус, что говорит о том, на большинстве объектов пара признаков отклоняется от своих средних в разные стороны. "
   ]
  },
  {
   "cell_type": "code",
   "execution_count": 12,
   "id": "d38232b7",
   "metadata": {},
   "outputs": [
    {
     "data": {
      "image/png": "[encoded data removed]",
      "text/plain": [
       "<Figure size 432x288 with 2 Axes>"
      ]
     },
     "metadata": {
      "needs_background": "light"
     },
     "output_type": "display_data"
    }
   ],
   "source": [
    "sns.heatmap(data_corr , square=True, cmap='coolwarm')\n",
    "pass"
   ]
  },
  {
   "cell_type": "code",
   "execution_count": 13,
   "id": "4428fd8b",
   "metadata": {},
   "outputs": [
    {
     "data": {
      "text/plain": [
       "<AxesSubplot:xlabel='age', ylabel='y'>"
      ]
     },
     "execution_count": 13,
     "metadata": {},
     "output_type": "execute_result"
    },
    {
     "data": {
      "image/png": "[encoded data removed]",
      "text/plain": [
       "<Figure size 432x288 with 1 Axes>"
      ]
     },
     "metadata": {
      "needs_background": "light"
     },
     "output_type": "display_data"
    }
   ],
   "source": [
    "sns.barplot(data=data, x=\"age\", y=\"y\")"
   ]
  },
  {
   "cell_type": "code",
   "execution_count": 14,
   "id": "40eac922",
   "metadata": {},
   "outputs": [
    {
     "data": {
      "image/png": "[encoded data removed]",
      "text/plain": [
       "<Figure size 432x288 with 1 Axes>"
      ]
     },
     "metadata": {
      "needs_background": "light"
     },
     "output_type": "display_data"
    }
   ],
   "source": [
    "np.random.seed(42)\n",
    "random_subset = np.random.choice(np.arange(data.shape[0]), size=1000, replace=False)\n",
    "plt.scatter(data.iloc[random_subset]['age'], data.iloc[random_subset]['y'], alpha=0.4)\n",
    "plt.xlabel('age')\n",
    "plt.ylabel('y')\n",
    "pass"
   ]
  },
  {
   "cell_type": "code",
   "execution_count": 15,
   "id": "9325e09f",
   "metadata": {
    "scrolled": true
   },
   "outputs": [
    {
     "data": {
      "text/plain": [
       "<AxesSubplot:xlabel='marital', ylabel='y'>"
      ]
     },
     "execution_count": 15,
     "metadata": {},
     "output_type": "execute_result"
    },
    {
     "data": {
      "image/png": "[encoded data removed]",
      "text/plain": [
       "<Figure size 432x288 with 1 Axes>"
      ]
     },
     "metadata": {
      "needs_background": "light"
     },
     "output_type": "display_data"
    }
   ],
   "source": [
    "sns.barplot(data=data, y=\"y\", x=\"marital\")"
   ]
  },
  {
   "cell_type": "code",
   "execution_count": 16,
   "id": "30174b1e",
   "metadata": {},
   "outputs": [
    {
     "data": {
      "text/plain": [
       "<AxesSubplot:xlabel='y', ylabel='education'>"
      ]
     },
     "execution_count": 16,
     "metadata": {},
     "output_type": "execute_result"
    },
    {
     "data": {
      "image/png": "[encoded data removed]",
      "text/plain": [
       "<Figure size 432x288 with 1 Axes>"
      ]
     },
     "metadata": {
      "needs_background": "light"
     },
     "output_type": "display_data"
    }
   ],
   "source": [
    "sns.barplot(data=data, x=\"y\", y=\"education\")"
   ]
  },
  {
   "cell_type": "code",
   "execution_count": 17,
   "id": "a4bd76a6",
   "metadata": {},
   "outputs": [
    {
     "data": {
      "text/plain": [
       "<AxesSubplot:xlabel='y', ylabel='job'>"
      ]
     },
     "execution_count": 17,
     "metadata": {},
     "output_type": "execute_result"
    },
    {
     "data": {
      "image/png": "[encoded data removed]",
      "text/plain": [
       "<Figure size 432x288 with 1 Axes>"
      ]
     },
     "metadata": {
      "needs_background": "light"
     },
     "output_type": "display_data"
    }
   ],
   "source": [
    "sns.barplot(data=data, x=\"y\", y=\"job\")"
   ]
  },
  {
   "cell_type": "code",
   "execution_count": 18,
   "id": "048ab00e",
   "metadata": {},
   "outputs": [
    {
     "data": {
      "text/plain": [
       "<AxesSubplot:xlabel='default', ylabel='y'>"
      ]
     },
     "execution_count": 18,
     "metadata": {},
     "output_type": "execute_result"
    },
    {
     "data": {
      "image/png": "[encoded data removed]",
      "text/plain": [
       "<Figure size 432x288 with 1 Axes>"
      ]
     },
     "metadata": {
      "needs_background": "light"
     },
     "output_type": "display_data"
    }
   ],
   "source": [
    "sns.barplot(data=data, y=\"y\", x=\"default\")"
   ]
  },
  {
   "cell_type": "code",
   "execution_count": 19,
   "id": "45299198",
   "metadata": {
    "scrolled": true
   },
   "outputs": [
    {
     "data": {
      "text/plain": [
       "<AxesSubplot:xlabel='housing', ylabel='y'>"
      ]
     },
     "execution_count": 19,
     "metadata": {},
     "output_type": "execute_result"
    },
    {
     "data": {
      "image/png": "[encoded data removed]",
      "text/plain": [
       "<Figure size 432x288 with 1 Axes>"
      ]
     },
     "metadata": {
      "needs_background": "light"
     },
     "output_type": "display_data"
    }
   ],
   "source": [
    "sns.barplot(data=data, y=\"y\", x=\"housing\")"
   ]
  },
  {
   "cell_type": "code",
   "execution_count": 20,
   "id": "ba2535b1",
   "metadata": {
    "scrolled": true
   },
   "outputs": [
    {
     "data": {
      "text/plain": [
       "<AxesSubplot:xlabel='loan', ylabel='y'>"
      ]
     },
     "execution_count": 20,
     "metadata": {},
     "output_type": "execute_result"
    },
    {
     "data": {
      "image/png": "[encoded data removed]",
      "text/plain": [
       "<Figure size 432x288 with 1 Axes>"
      ]
     },
     "metadata": {
      "needs_background": "light"
     },
     "output_type": "display_data"
    }
   ],
   "source": [
    "sns.barplot(data=data, y=\"y\", x=\"loan\")"
   ]
  },
  {
   "cell_type": "code",
   "execution_count": 21,
   "id": "9fd11900",
   "metadata": {},
   "outputs": [
    {
     "data": {
      "text/plain": [
       "<AxesSubplot:xlabel='contact', ylabel='y'>"
      ]
     },
     "execution_count": 21,
     "metadata": {},
     "output_type": "execute_result"
    },
    {
     "data": {
      "image/png": "[encoded data removed]",
      "text/plain": [
       "<Figure size 432x288 with 1 Axes>"
      ]
     },
     "metadata": {
      "needs_background": "light"
     },
     "output_type": "display_data"
    }
   ],
   "source": [
    "sns.barplot(data=data, y=\"y\", x=\"contact\")"
   ]
  },
  {
   "cell_type": "markdown",
   "id": "fde7451c",
   "metadata": {},
   "source": [
    "Построим все возможные диаграммы рассеивания для каждой пары переменных:\n"
   ]
  },
  {
   "cell_type": "markdown",
   "id": "f9f865f7",
   "metadata": {},
   "source": [
    "Из визуализации данных можно предположить, что на срочный депозит в банке чаще и вероятнее всего соглашаются: люди в возрасте, примерно от 25 до 45 лет, одинокие и, к сожалению, без образования (т.е. неграмотные).\n",
    "Так же на срочные депозиты чаще остальных соглашаются студенты и люди, не имеющие кредитов (что логично). А вот наличие кредитов на жильё или личных займов практически никак не влияют на это решение. "
   ]
  },
  {
   "cell_type": "markdown",
   "id": "0a4cfc19",
   "metadata": {},
   "source": [
    "## 3. Обработка пропущенных значений"
   ]
  },
  {
   "cell_type": "code",
   "execution_count": 22,
   "id": "e7c80bc0",
   "metadata": {},
   "outputs": [
    {
     "data": {
      "text/plain": [
       "age            0\n",
       "job            0\n",
       "marital        0\n",
       "education      0\n",
       "default        0\n",
       "housing        0\n",
       "loan           0\n",
       "contact        0\n",
       "month          0\n",
       "day_of_week    0\n",
       "duration       0\n",
       "campaign       0\n",
       "pdays          0\n",
       "previous       0\n",
       "poutcome       0\n",
       "y              0\n",
       "dtype: int64"
      ]
     },
     "execution_count": 22,
     "metadata": {},
     "output_type": "execute_result"
    }
   ],
   "source": [
    "data.isna().sum()"
   ]
  },
  {
   "cell_type": "markdown",
   "id": "162c3033",
   "metadata": {},
   "source": [
    "Пропущенных значений нет"
   ]
  },
  {
   "cell_type": "markdown",
   "id": "ff3229c8",
   "metadata": {},
   "source": [
    "## 4. Обработка категориальных признаков\n",
    "Для дальнейшей обработки данных закодируем категориальные признаки с помощью числовых.\n",
    "\n",
    "Бинарные признаки \"y\"\" заменим на числовой (0 и 1). К небинарным признакам \"job\", \"marital\", \"education\", \"default\", \"housing\", \"loan\", \"contact\", \"month\", \"day_of_week\", \"previous\" применим метод бинаризации (one-hot encoding)."
   ]
  },
  {
   "cell_type": "code",
   "execution_count": 23,
   "id": "45230aad",
   "metadata": {
    "scrolled": true
   },
   "outputs": [
    {
     "data": {
      "text/html": [
       "<div>\n",
       "<style scoped>\n",
       "    .dataframe tbody tr th:only-of-type {\n",
       "        vertical-align: middle;\n",
       "    }\n",
       "\n",
       "    .dataframe tbody tr th {\n",
       "        vertical-align: top;\n",
       "    }\n",
       "\n",
       "    .dataframe thead th {\n",
       "        text-align: right;\n",
       "    }\n",
       "</style>\n",
       "<table border=\"1\" class=\"dataframe\">\n",
       "  <thead>\n",
       "    <tr style=\"text-align: right;\">\n",
       "      <th></th>\n",
       "      <th>admin.</th>\n",
       "      <th>blue-collar</th>\n",
       "      <th>entrepreneur</th>\n",
       "      <th>housemaid</th>\n",
       "      <th>management</th>\n",
       "      <th>retired</th>\n",
       "      <th>self-employed</th>\n",
       "      <th>services</th>\n",
       "      <th>student</th>\n",
       "      <th>technician</th>\n",
       "      <th>unemployed</th>\n",
       "      <th>unknown</th>\n",
       "    </tr>\n",
       "  </thead>\n",
       "  <tbody>\n",
       "    <tr>\n",
       "      <th>0</th>\n",
       "      <td>0</td>\n",
       "      <td>1</td>\n",
       "      <td>0</td>\n",
       "      <td>0</td>\n",
       "      <td>0</td>\n",
       "      <td>0</td>\n",
       "      <td>0</td>\n",
       "      <td>0</td>\n",
       "      <td>0</td>\n",
       "      <td>0</td>\n",
       "      <td>0</td>\n",
       "      <td>0</td>\n",
       "    </tr>\n",
       "    <tr>\n",
       "      <th>1</th>\n",
       "      <td>0</td>\n",
       "      <td>0</td>\n",
       "      <td>1</td>\n",
       "      <td>0</td>\n",
       "      <td>0</td>\n",
       "      <td>0</td>\n",
       "      <td>0</td>\n",
       "      <td>0</td>\n",
       "      <td>0</td>\n",
       "      <td>0</td>\n",
       "      <td>0</td>\n",
       "      <td>0</td>\n",
       "    </tr>\n",
       "    <tr>\n",
       "      <th>2</th>\n",
       "      <td>0</td>\n",
       "      <td>0</td>\n",
       "      <td>0</td>\n",
       "      <td>0</td>\n",
       "      <td>0</td>\n",
       "      <td>1</td>\n",
       "      <td>0</td>\n",
       "      <td>0</td>\n",
       "      <td>0</td>\n",
       "      <td>0</td>\n",
       "      <td>0</td>\n",
       "      <td>0</td>\n",
       "    </tr>\n",
       "    <tr>\n",
       "      <th>3</th>\n",
       "      <td>1</td>\n",
       "      <td>0</td>\n",
       "      <td>0</td>\n",
       "      <td>0</td>\n",
       "      <td>0</td>\n",
       "      <td>0</td>\n",
       "      <td>0</td>\n",
       "      <td>0</td>\n",
       "      <td>0</td>\n",
       "      <td>0</td>\n",
       "      <td>0</td>\n",
       "      <td>0</td>\n",
       "    </tr>\n",
       "    <tr>\n",
       "      <th>4</th>\n",
       "      <td>0</td>\n",
       "      <td>0</td>\n",
       "      <td>0</td>\n",
       "      <td>0</td>\n",
       "      <td>0</td>\n",
       "      <td>1</td>\n",
       "      <td>0</td>\n",
       "      <td>0</td>\n",
       "      <td>0</td>\n",
       "      <td>0</td>\n",
       "      <td>0</td>\n",
       "      <td>0</td>\n",
       "    </tr>\n",
       "  </tbody>\n",
       "</table>\n",
       "</div>"
      ],
      "text/plain": [
       "   admin.  blue-collar  entrepreneur  housemaid  management  retired  \\\n",
       "0       0            1             0          0           0        0   \n",
       "1       0            0             1          0           0        0   \n",
       "2       0            0             0          0           0        1   \n",
       "3       1            0             0          0           0        0   \n",
       "4       0            0             0          0           0        1   \n",
       "\n",
       "   self-employed  services  student  technician  unemployed  unknown  \n",
       "0              0         0        0           0           0        0  \n",
       "1              0         0        0           0           0        0  \n",
       "2              0         0        0           0           0        0  \n",
       "3              0         0        0           0           0        0  \n",
       "4              0         0        0           0           0        0  "
      ]
     },
     "execution_count": 23,
     "metadata": {},
     "output_type": "execute_result"
    }
   ],
   "source": [
    "data['y'] = pd.factorize(data['y'])[0]\n",
    "\n",
    "job_dummies = pd.get_dummies(data['job'])\n",
    "marital_dummies = pd.get_dummies(data['marital'])\n",
    "education_dummies = pd.get_dummies(data['education'])\n",
    "default_dummies = pd.get_dummies(data['default'])\n",
    "housing_dummies = pd.get_dummies(data['housing'])\n",
    "loan_dummies = pd.get_dummies(data['loan'])\n",
    "contact_dummies = pd.get_dummies(data['contact'])\n",
    "month_dummies = pd.get_dummies(data['month'])\n",
    "day_of_week_dummies = pd.get_dummies(data['day_of_week'])\n",
    "previous_dummies = pd.get_dummies(data['previous'])\n",
    "poutcome_dummies = pd.get_dummies(data['poutcome'])\n",
    "\n",
    "job_dummies.head()\n"
   ]
  },
  {
   "cell_type": "markdown",
   "id": "63b19515",
   "metadata": {},
   "source": [
    "Добавим dummy-столбцы к таблице и удалим \"job\", \"marital\", \"education\", \"default\", \"housing\", \"loan\", \"contact\", \"month\", \"day_of_week\", \"previous\":"
   ]
  },
  {
   "cell_type": "code",
   "execution_count": 24,
   "id": "f8fe3380",
   "metadata": {},
   "outputs": [
    {
     "data": {
      "text/html": [
       "<div>\n",
       "<style scoped>\n",
       "    .dataframe tbody tr th:only-of-type {\n",
       "        vertical-align: middle;\n",
       "    }\n",
       "\n",
       "    .dataframe tbody tr th {\n",
       "        vertical-align: top;\n",
       "    }\n",
       "\n",
       "    .dataframe thead th {\n",
       "        text-align: right;\n",
       "    }\n",
       "</style>\n",
       "<table border=\"1\" class=\"dataframe\">\n",
       "  <thead>\n",
       "    <tr style=\"text-align: right;\">\n",
       "      <th></th>\n",
       "      <th>age</th>\n",
       "      <th>duration</th>\n",
       "      <th>campaign</th>\n",
       "      <th>pdays</th>\n",
       "      <th>y</th>\n",
       "      <th>admin.</th>\n",
       "      <th>blue-collar</th>\n",
       "      <th>entrepreneur</th>\n",
       "      <th>housemaid</th>\n",
       "      <th>management</th>\n",
       "      <th>...</th>\n",
       "      <th>1</th>\n",
       "      <th>2</th>\n",
       "      <th>3</th>\n",
       "      <th>4</th>\n",
       "      <th>5</th>\n",
       "      <th>6</th>\n",
       "      <th>7</th>\n",
       "      <th>failure</th>\n",
       "      <th>nonexistent</th>\n",
       "      <th>success</th>\n",
       "    </tr>\n",
       "  </thead>\n",
       "  <tbody>\n",
       "    <tr>\n",
       "      <th>0</th>\n",
       "      <td>49</td>\n",
       "      <td>227</td>\n",
       "      <td>4</td>\n",
       "      <td>999</td>\n",
       "      <td>0</td>\n",
       "      <td>0</td>\n",
       "      <td>1</td>\n",
       "      <td>0</td>\n",
       "      <td>0</td>\n",
       "      <td>0</td>\n",
       "      <td>...</td>\n",
       "      <td>0</td>\n",
       "      <td>0</td>\n",
       "      <td>0</td>\n",
       "      <td>0</td>\n",
       "      <td>0</td>\n",
       "      <td>0</td>\n",
       "      <td>0</td>\n",
       "      <td>0</td>\n",
       "      <td>1</td>\n",
       "      <td>0</td>\n",
       "    </tr>\n",
       "    <tr>\n",
       "      <th>1</th>\n",
       "      <td>37</td>\n",
       "      <td>202</td>\n",
       "      <td>2</td>\n",
       "      <td>999</td>\n",
       "      <td>0</td>\n",
       "      <td>0</td>\n",
       "      <td>0</td>\n",
       "      <td>1</td>\n",
       "      <td>0</td>\n",
       "      <td>0</td>\n",
       "      <td>...</td>\n",
       "      <td>1</td>\n",
       "      <td>0</td>\n",
       "      <td>0</td>\n",
       "      <td>0</td>\n",
       "      <td>0</td>\n",
       "      <td>0</td>\n",
       "      <td>0</td>\n",
       "      <td>1</td>\n",
       "      <td>0</td>\n",
       "      <td>0</td>\n",
       "    </tr>\n",
       "    <tr>\n",
       "      <th>2</th>\n",
       "      <td>78</td>\n",
       "      <td>1148</td>\n",
       "      <td>1</td>\n",
       "      <td>999</td>\n",
       "      <td>1</td>\n",
       "      <td>0</td>\n",
       "      <td>0</td>\n",
       "      <td>0</td>\n",
       "      <td>0</td>\n",
       "      <td>0</td>\n",
       "      <td>...</td>\n",
       "      <td>0</td>\n",
       "      <td>0</td>\n",
       "      <td>0</td>\n",
       "      <td>0</td>\n",
       "      <td>0</td>\n",
       "      <td>0</td>\n",
       "      <td>0</td>\n",
       "      <td>0</td>\n",
       "      <td>1</td>\n",
       "      <td>0</td>\n",
       "    </tr>\n",
       "    <tr>\n",
       "      <th>3</th>\n",
       "      <td>36</td>\n",
       "      <td>120</td>\n",
       "      <td>2</td>\n",
       "      <td>999</td>\n",
       "      <td>0</td>\n",
       "      <td>1</td>\n",
       "      <td>0</td>\n",
       "      <td>0</td>\n",
       "      <td>0</td>\n",
       "      <td>0</td>\n",
       "      <td>...</td>\n",
       "      <td>0</td>\n",
       "      <td>0</td>\n",
       "      <td>0</td>\n",
       "      <td>0</td>\n",
       "      <td>0</td>\n",
       "      <td>0</td>\n",
       "      <td>0</td>\n",
       "      <td>0</td>\n",
       "      <td>1</td>\n",
       "      <td>0</td>\n",
       "    </tr>\n",
       "    <tr>\n",
       "      <th>4</th>\n",
       "      <td>59</td>\n",
       "      <td>368</td>\n",
       "      <td>2</td>\n",
       "      <td>999</td>\n",
       "      <td>0</td>\n",
       "      <td>0</td>\n",
       "      <td>0</td>\n",
       "      <td>0</td>\n",
       "      <td>0</td>\n",
       "      <td>0</td>\n",
       "      <td>...</td>\n",
       "      <td>0</td>\n",
       "      <td>0</td>\n",
       "      <td>0</td>\n",
       "      <td>0</td>\n",
       "      <td>0</td>\n",
       "      <td>0</td>\n",
       "      <td>0</td>\n",
       "      <td>0</td>\n",
       "      <td>1</td>\n",
       "      <td>0</td>\n",
       "    </tr>\n",
       "  </tbody>\n",
       "</table>\n",
       "<p>5 rows × 66 columns</p>\n",
       "</div>"
      ],
      "text/plain": [
       "   age  duration  campaign  pdays  y  admin.  blue-collar  entrepreneur  \\\n",
       "0   49       227         4    999  0       0            1             0   \n",
       "1   37       202         2    999  0       0            0             1   \n",
       "2   78      1148         1    999  1       0            0             0   \n",
       "3   36       120         2    999  0       1            0             0   \n",
       "4   59       368         2    999  0       0            0             0   \n",
       "\n",
       "   housemaid  management  ...  1  2  3  4  5  6  7  failure  nonexistent  \\\n",
       "0          0           0  ...  0  0  0  0  0  0  0        0            1   \n",
       "1          0           0  ...  1  0  0  0  0  0  0        1            0   \n",
       "2          0           0  ...  0  0  0  0  0  0  0        0            1   \n",
       "3          0           0  ...  0  0  0  0  0  0  0        0            1   \n",
       "4          0           0  ...  0  0  0  0  0  0  0        0            1   \n",
       "\n",
       "   success  \n",
       "0        0  \n",
       "1        0  \n",
       "2        0  \n",
       "3        0  \n",
       "4        0  \n",
       "\n",
       "[5 rows x 66 columns]"
      ]
     },
     "execution_count": 24,
     "metadata": {},
     "output_type": "execute_result"
    }
   ],
   "source": [
    "data = pd.concat((data, job_dummies), axis=1)\n",
    "data = pd.concat((data, marital_dummies), axis=1)\n",
    "data = pd.concat((data, education_dummies), axis=1)\n",
    "data = pd.concat((data, default_dummies), axis=1)\n",
    "data = pd.concat((data, housing_dummies), axis=1)\n",
    "data = pd.concat((data, loan_dummies), axis=1)\n",
    "data = pd.concat((data, contact_dummies), axis=1)\n",
    "data = pd.concat((data, month_dummies), axis=1)\n",
    "data = pd.concat((data, day_of_week_dummies), axis=1)\n",
    "data = pd.concat((data, previous_dummies), axis=1)\n",
    "data = pd.concat((data, poutcome_dummies), axis=1)\n",
    "\n",
    "data = data.drop(['job'], axis=1)\n",
    "data = data.drop(['marital'], axis=1)\n",
    "data = data.drop(['education'], axis=1)\n",
    "data = data.drop(['default'], axis=1)\n",
    "data = data.drop(['housing'], axis=1)\n",
    "data = data.drop(['loan'], axis=1)\n",
    "data = data.drop(['contact'], axis=1)\n",
    "data = data.drop(['month'], axis=1)\n",
    "data = data.drop(['day_of_week'], axis=1)\n",
    "data = data.drop(['previous'], axis=1)\n",
    "data = data.drop(['poutcome'], axis=1)\n",
    "\n",
    "data.head()"
   ]
  },
  {
   "cell_type": "markdown",
   "id": "605d3151",
   "metadata": {},
   "source": [
    "## 5. Нормализация признаков\n",
    "Нормализация (normalization) и стандартизация (standardization) являются методами изменения диапазонов значений – шкалирования. Разные атрибуты могут измеряться в разных диапазонах, или значения одного атрибута варьируются слишком сильно. Например, один атрибут может имеет диапазон от 0 до 1, а второй — от 1 до 1000. Тогда второй атрибут оказывает большее влияние на обучение, хотя не факт, что он является более важным, чем первый.\n",
    "\n",
    "Нормализация подразумевает изменение диапазонов в данных без изменения формы распределения,\n",
    "\n",
    "Стандартизация изменяет форму распределения данных (приводится к нормальному распределению).\n",
    "\n",
    "В дальнейшем мы будем использовать алгоритм k ближайших соседей, основанный на измерении расстояний, в таких случаях лучше применять стандартизацию. Выполним стандартизацию всех признаков:"
   ]
  },
  {
   "cell_type": "code",
   "execution_count": 25,
   "id": "cffe8aa8",
   "metadata": {},
   "outputs": [
    {
     "data": {
      "text/html": [
       "<div>\n",
       "<style scoped>\n",
       "    .dataframe tbody tr th:only-of-type {\n",
       "        vertical-align: middle;\n",
       "    }\n",
       "\n",
       "    .dataframe tbody tr th {\n",
       "        vertical-align: top;\n",
       "    }\n",
       "\n",
       "    .dataframe thead th {\n",
       "        text-align: right;\n",
       "    }\n",
       "</style>\n",
       "<table border=\"1\" class=\"dataframe\">\n",
       "  <thead>\n",
       "    <tr style=\"text-align: right;\">\n",
       "      <th></th>\n",
       "      <th>age</th>\n",
       "      <th>duration</th>\n",
       "      <th>campaign</th>\n",
       "      <th>pdays</th>\n",
       "      <th>y</th>\n",
       "      <th>admin.</th>\n",
       "      <th>blue-collar</th>\n",
       "      <th>entrepreneur</th>\n",
       "      <th>housemaid</th>\n",
       "      <th>management</th>\n",
       "      <th>...</th>\n",
       "      <th>1</th>\n",
       "      <th>2</th>\n",
       "      <th>3</th>\n",
       "      <th>4</th>\n",
       "      <th>5</th>\n",
       "      <th>6</th>\n",
       "      <th>7</th>\n",
       "      <th>failure</th>\n",
       "      <th>nonexistent</th>\n",
       "      <th>success</th>\n",
       "    </tr>\n",
       "  </thead>\n",
       "  <tbody>\n",
       "    <tr>\n",
       "      <th>0</th>\n",
       "      <td>0.863726</td>\n",
       "      <td>-0.120194</td>\n",
       "      <td>0.522973</td>\n",
       "      <td>0.196581</td>\n",
       "      <td>-0.356306</td>\n",
       "      <td>-0.580916</td>\n",
       "      <td>1.851503</td>\n",
       "      <td>-0.191019</td>\n",
       "      <td>-0.163214</td>\n",
       "      <td>-0.276802</td>\n",
       "      <td>...</td>\n",
       "      <td>-0.354194</td>\n",
       "      <td>-0.136878</td>\n",
       "      <td>-0.07307</td>\n",
       "      <td>-0.042711</td>\n",
       "      <td>-0.020617</td>\n",
       "      <td>-0.012319</td>\n",
       "      <td>-0.005509</td>\n",
       "      <td>-0.340809</td>\n",
       "      <td>0.399441</td>\n",
       "      <td>-0.186275</td>\n",
       "    </tr>\n",
       "    <tr>\n",
       "      <th>1</th>\n",
       "      <td>-0.289717</td>\n",
       "      <td>-0.216729</td>\n",
       "      <td>-0.203685</td>\n",
       "      <td>0.196581</td>\n",
       "      <td>-0.356306</td>\n",
       "      <td>-0.580916</td>\n",
       "      <td>-0.540085</td>\n",
       "      <td>5.234916</td>\n",
       "      <td>-0.163214</td>\n",
       "      <td>-0.276802</td>\n",
       "      <td>...</td>\n",
       "      <td>2.823230</td>\n",
       "      <td>-0.136878</td>\n",
       "      <td>-0.07307</td>\n",
       "      <td>-0.042711</td>\n",
       "      <td>-0.020617</td>\n",
       "      <td>-0.012319</td>\n",
       "      <td>-0.005509</td>\n",
       "      <td>2.934102</td>\n",
       "      <td>-2.503422</td>\n",
       "      <td>-0.186275</td>\n",
       "    </tr>\n",
       "    <tr>\n",
       "      <th>2</th>\n",
       "      <td>3.651213</td>\n",
       "      <td>3.436121</td>\n",
       "      <td>-0.567014</td>\n",
       "      <td>0.196581</td>\n",
       "      <td>2.806488</td>\n",
       "      <td>-0.580916</td>\n",
       "      <td>-0.540085</td>\n",
       "      <td>-0.191019</td>\n",
       "      <td>-0.163214</td>\n",
       "      <td>-0.276802</td>\n",
       "      <td>...</td>\n",
       "      <td>-0.354194</td>\n",
       "      <td>-0.136878</td>\n",
       "      <td>-0.07307</td>\n",
       "      <td>-0.042711</td>\n",
       "      <td>-0.020617</td>\n",
       "      <td>-0.012319</td>\n",
       "      <td>-0.005509</td>\n",
       "      <td>-0.340809</td>\n",
       "      <td>0.399441</td>\n",
       "      <td>-0.186275</td>\n",
       "    </tr>\n",
       "    <tr>\n",
       "      <th>3</th>\n",
       "      <td>-0.385837</td>\n",
       "      <td>-0.533360</td>\n",
       "      <td>-0.203685</td>\n",
       "      <td>0.196581</td>\n",
       "      <td>-0.356306</td>\n",
       "      <td>1.721367</td>\n",
       "      <td>-0.540085</td>\n",
       "      <td>-0.191019</td>\n",
       "      <td>-0.163214</td>\n",
       "      <td>-0.276802</td>\n",
       "      <td>...</td>\n",
       "      <td>-0.354194</td>\n",
       "      <td>-0.136878</td>\n",
       "      <td>-0.07307</td>\n",
       "      <td>-0.042711</td>\n",
       "      <td>-0.020617</td>\n",
       "      <td>-0.012319</td>\n",
       "      <td>-0.005509</td>\n",
       "      <td>-0.340809</td>\n",
       "      <td>0.399441</td>\n",
       "      <td>-0.186275</td>\n",
       "    </tr>\n",
       "    <tr>\n",
       "      <th>4</th>\n",
       "      <td>1.824928</td>\n",
       "      <td>0.424258</td>\n",
       "      <td>-0.203685</td>\n",
       "      <td>0.196581</td>\n",
       "      <td>-0.356306</td>\n",
       "      <td>-0.580916</td>\n",
       "      <td>-0.540085</td>\n",
       "      <td>-0.191019</td>\n",
       "      <td>-0.163214</td>\n",
       "      <td>-0.276802</td>\n",
       "      <td>...</td>\n",
       "      <td>-0.354194</td>\n",
       "      <td>-0.136878</td>\n",
       "      <td>-0.07307</td>\n",
       "      <td>-0.042711</td>\n",
       "      <td>-0.020617</td>\n",
       "      <td>-0.012319</td>\n",
       "      <td>-0.005509</td>\n",
       "      <td>-0.340809</td>\n",
       "      <td>0.399441</td>\n",
       "      <td>-0.186275</td>\n",
       "    </tr>\n",
       "    <tr>\n",
       "      <th>...</th>\n",
       "      <td>...</td>\n",
       "      <td>...</td>\n",
       "      <td>...</td>\n",
       "      <td>...</td>\n",
       "      <td>...</td>\n",
       "      <td>...</td>\n",
       "      <td>...</td>\n",
       "      <td>...</td>\n",
       "      <td>...</td>\n",
       "      <td>...</td>\n",
       "      <td>...</td>\n",
       "      <td>...</td>\n",
       "      <td>...</td>\n",
       "      <td>...</td>\n",
       "      <td>...</td>\n",
       "      <td>...</td>\n",
       "      <td>...</td>\n",
       "      <td>...</td>\n",
       "      <td>...</td>\n",
       "      <td>...</td>\n",
       "      <td>...</td>\n",
       "    </tr>\n",
       "    <tr>\n",
       "      <th>32945</th>\n",
       "      <td>-1.154799</td>\n",
       "      <td>-0.255342</td>\n",
       "      <td>-0.567014</td>\n",
       "      <td>0.196581</td>\n",
       "      <td>-0.356306</td>\n",
       "      <td>-0.580916</td>\n",
       "      <td>-0.540085</td>\n",
       "      <td>-0.191019</td>\n",
       "      <td>-0.163214</td>\n",
       "      <td>-0.276802</td>\n",
       "      <td>...</td>\n",
       "      <td>-0.354194</td>\n",
       "      <td>-0.136878</td>\n",
       "      <td>-0.07307</td>\n",
       "      <td>-0.042711</td>\n",
       "      <td>-0.020617</td>\n",
       "      <td>-0.012319</td>\n",
       "      <td>-0.005509</td>\n",
       "      <td>-0.340809</td>\n",
       "      <td>0.399441</td>\n",
       "      <td>-0.186275</td>\n",
       "    </tr>\n",
       "    <tr>\n",
       "      <th>32946</th>\n",
       "      <td>1.152086</td>\n",
       "      <td>-0.749597</td>\n",
       "      <td>-0.567014</td>\n",
       "      <td>0.196581</td>\n",
       "      <td>-0.356306</td>\n",
       "      <td>-0.580916</td>\n",
       "      <td>-0.540085</td>\n",
       "      <td>-0.191019</td>\n",
       "      <td>-0.163214</td>\n",
       "      <td>-0.276802</td>\n",
       "      <td>...</td>\n",
       "      <td>2.823230</td>\n",
       "      <td>-0.136878</td>\n",
       "      <td>-0.07307</td>\n",
       "      <td>-0.042711</td>\n",
       "      <td>-0.020617</td>\n",
       "      <td>-0.012319</td>\n",
       "      <td>-0.005509</td>\n",
       "      <td>2.934102</td>\n",
       "      <td>-2.503422</td>\n",
       "      <td>-0.186275</td>\n",
       "    </tr>\n",
       "    <tr>\n",
       "      <th>32947</th>\n",
       "      <td>1.344327</td>\n",
       "      <td>-0.490885</td>\n",
       "      <td>0.522973</td>\n",
       "      <td>0.196581</td>\n",
       "      <td>-0.356306</td>\n",
       "      <td>1.721367</td>\n",
       "      <td>-0.540085</td>\n",
       "      <td>-0.191019</td>\n",
       "      <td>-0.163214</td>\n",
       "      <td>-0.276802</td>\n",
       "      <td>...</td>\n",
       "      <td>-0.354194</td>\n",
       "      <td>-0.136878</td>\n",
       "      <td>-0.07307</td>\n",
       "      <td>-0.042711</td>\n",
       "      <td>-0.020617</td>\n",
       "      <td>-0.012319</td>\n",
       "      <td>-0.005509</td>\n",
       "      <td>-0.340809</td>\n",
       "      <td>0.399441</td>\n",
       "      <td>-0.186275</td>\n",
       "    </tr>\n",
       "    <tr>\n",
       "      <th>32948</th>\n",
       "      <td>-1.058679</td>\n",
       "      <td>-0.359599</td>\n",
       "      <td>-0.567014</td>\n",
       "      <td>0.196581</td>\n",
       "      <td>-0.356306</td>\n",
       "      <td>1.721367</td>\n",
       "      <td>-0.540085</td>\n",
       "      <td>-0.191019</td>\n",
       "      <td>-0.163214</td>\n",
       "      <td>-0.276802</td>\n",
       "      <td>...</td>\n",
       "      <td>-0.354194</td>\n",
       "      <td>-0.136878</td>\n",
       "      <td>-0.07307</td>\n",
       "      <td>-0.042711</td>\n",
       "      <td>-0.020617</td>\n",
       "      <td>-0.012319</td>\n",
       "      <td>-0.005509</td>\n",
       "      <td>-0.340809</td>\n",
       "      <td>0.399441</td>\n",
       "      <td>-0.186275</td>\n",
       "    </tr>\n",
       "    <tr>\n",
       "      <th>32949</th>\n",
       "      <td>-0.481958</td>\n",
       "      <td>1.103858</td>\n",
       "      <td>0.159644</td>\n",
       "      <td>0.196581</td>\n",
       "      <td>-0.356306</td>\n",
       "      <td>1.721367</td>\n",
       "      <td>-0.540085</td>\n",
       "      <td>-0.191019</td>\n",
       "      <td>-0.163214</td>\n",
       "      <td>-0.276802</td>\n",
       "      <td>...</td>\n",
       "      <td>-0.354194</td>\n",
       "      <td>-0.136878</td>\n",
       "      <td>-0.07307</td>\n",
       "      <td>-0.042711</td>\n",
       "      <td>-0.020617</td>\n",
       "      <td>-0.012319</td>\n",
       "      <td>-0.005509</td>\n",
       "      <td>-0.340809</td>\n",
       "      <td>0.399441</td>\n",
       "      <td>-0.186275</td>\n",
       "    </tr>\n",
       "  </tbody>\n",
       "</table>\n",
       "<p>32950 rows × 66 columns</p>\n",
       "</div>"
      ],
      "text/plain": [
       "            age  duration  campaign     pdays         y    admin.  \\\n",
       "0      0.863726 -0.120194  0.522973  0.196581 -0.356306 -0.580916   \n",
       "1     -0.289717 -0.216729 -0.203685  0.196581 -0.356306 -0.580916   \n",
       "2      3.651213  3.436121 -0.567014  0.196581  2.806488 -0.580916   \n",
       "3     -0.385837 -0.533360 -0.203685  0.196581 -0.356306  1.721367   \n",
       "4      1.824928  0.424258 -0.203685  0.196581 -0.356306 -0.580916   \n",
       "...         ...       ...       ...       ...       ...       ...   \n",
       "32945 -1.154799 -0.255342 -0.567014  0.196581 -0.356306 -0.580916   \n",
       "32946  1.152086 -0.749597 -0.567014  0.196581 -0.356306 -0.580916   \n",
       "32947  1.344327 -0.490885  0.522973  0.196581 -0.356306  1.721367   \n",
       "32948 -1.058679 -0.359599 -0.567014  0.196581 -0.356306  1.721367   \n",
       "32949 -0.481958  1.103858  0.159644  0.196581 -0.356306  1.721367   \n",
       "\n",
       "       blue-collar  entrepreneur  housemaid  management  ...         1  \\\n",
       "0         1.851503     -0.191019  -0.163214   -0.276802  ... -0.354194   \n",
       "1        -0.540085      5.234916  -0.163214   -0.276802  ...  2.823230   \n",
       "2        -0.540085     -0.191019  -0.163214   -0.276802  ... -0.354194   \n",
       "3        -0.540085     -0.191019  -0.163214   -0.276802  ... -0.354194   \n",
       "4        -0.540085     -0.191019  -0.163214   -0.276802  ... -0.354194   \n",
       "...            ...           ...        ...         ...  ...       ...   \n",
       "32945    -0.540085     -0.191019  -0.163214   -0.276802  ... -0.354194   \n",
       "32946    -0.540085     -0.191019  -0.163214   -0.276802  ...  2.823230   \n",
       "32947    -0.540085     -0.191019  -0.163214   -0.276802  ... -0.354194   \n",
       "32948    -0.540085     -0.191019  -0.163214   -0.276802  ... -0.354194   \n",
       "32949    -0.540085     -0.191019  -0.163214   -0.276802  ... -0.354194   \n",
       "\n",
       "              2        3         4         5         6         7   failure  \\\n",
       "0     -0.136878 -0.07307 -0.042711 -0.020617 -0.012319 -0.005509 -0.340809   \n",
       "1     -0.136878 -0.07307 -0.042711 -0.020617 -0.012319 -0.005509  2.934102   \n",
       "2     -0.136878 -0.07307 -0.042711 -0.020617 -0.012319 -0.005509 -0.340809   \n",
       "3     -0.136878 -0.07307 -0.042711 -0.020617 -0.012319 -0.005509 -0.340809   \n",
       "4     -0.136878 -0.07307 -0.042711 -0.020617 -0.012319 -0.005509 -0.340809   \n",
       "...         ...      ...       ...       ...       ...       ...       ...   \n",
       "32945 -0.136878 -0.07307 -0.042711 -0.020617 -0.012319 -0.005509 -0.340809   \n",
       "32946 -0.136878 -0.07307 -0.042711 -0.020617 -0.012319 -0.005509  2.934102   \n",
       "32947 -0.136878 -0.07307 -0.042711 -0.020617 -0.012319 -0.005509 -0.340809   \n",
       "32948 -0.136878 -0.07307 -0.042711 -0.020617 -0.012319 -0.005509 -0.340809   \n",
       "32949 -0.136878 -0.07307 -0.042711 -0.020617 -0.012319 -0.005509 -0.340809   \n",
       "\n",
       "       nonexistent   success  \n",
       "0         0.399441 -0.186275  \n",
       "1        -2.503422 -0.186275  \n",
       "2         0.399441 -0.186275  \n",
       "3         0.399441 -0.186275  \n",
       "4         0.399441 -0.186275  \n",
       "...            ...       ...  \n",
       "32945     0.399441 -0.186275  \n",
       "32946    -2.503422 -0.186275  \n",
       "32947     0.399441 -0.186275  \n",
       "32948     0.399441 -0.186275  \n",
       "32949     0.399441 -0.186275  \n",
       "\n",
       "[32950 rows x 66 columns]"
      ]
     },
     "execution_count": 25,
     "metadata": {},
     "output_type": "execute_result"
    }
   ],
   "source": [
    "data_stand = (data - data.mean(axis = 0))/data.std(axis = 0)\n",
    "data_stand"
   ]
  },
  {
   "cell_type": "markdown",
   "id": "e5ae1341",
   "metadata": {},
   "source": [
    "## 6. Разбивка данных на тестовую и обучающие выборки"
   ]
  },
  {
   "cell_type": "markdown",
   "id": "40948a8f",
   "metadata": {},
   "source": [
    "Для определения рисков наступления страхового случая будем использовать все входные признаки:"
   ]
  },
  {
   "cell_type": "code",
   "execution_count": 26,
   "id": "1f95caab",
   "metadata": {},
   "outputs": [],
   "source": [
    "X = data_stand.drop([\"y\"], axis=1)\n",
    "y = data[\"y\"]"
   ]
  },
  {
   "cell_type": "markdown",
   "id": "d31f7468",
   "metadata": {},
   "source": [
    "Разобьем данные на обучающую и тестовую выборку в пропорции 3:1 (75% обучающей выборки, 25% - тестовой)"
   ]
  },
  {
   "cell_type": "code",
   "execution_count": 27,
   "id": "48203b66",
   "metadata": {},
   "outputs": [
    {
     "data": {
      "text/plain": [
       "((24712, 65), (8238, 65))"
      ]
     },
     "execution_count": 27,
     "metadata": {},
     "output_type": "execute_result"
    }
   ],
   "source": [
    "from sklearn.model_selection import train_test_split\n",
    "X_train, X_test, y_train, y_test = train_test_split(X, y, test_size = 0.25, random_state = 42)\n",
    "\n",
    "X_train.shape, X_test.shape"
   ]
  },
  {
   "cell_type": "markdown",
   "id": "aa6dc097",
   "metadata": {},
   "source": [
    "## 7. Классификатор ближайших соседей\n"
   ]
  },
  {
   "cell_type": "markdown",
   "id": "4a98b737",
   "metadata": {},
   "source": [
    "Проведем обучение с помощью k-nearest neighbors algorithm (k-NN) и вычислим ошибки на обучающей выборке и тестовой:"
   ]
  },
  {
   "cell_type": "code",
   "execution_count": 28,
   "id": "94d810ea",
   "metadata": {},
   "outputs": [
    {
     "data": {
      "text/plain": [
       "KNeighborsClassifier(p=1)"
      ]
     },
     "execution_count": 28,
     "metadata": {},
     "output_type": "execute_result"
    }
   ],
   "source": [
    "from sklearn.neighbors import KNeighborsClassifier\n",
    "model = KNeighborsClassifier(n_neighbors=5, p=1)\n",
    "model.fit(X_train, y_train)"
   ]
  },
  {
   "cell_type": "code",
   "execution_count": 29,
   "id": "928b19a9",
   "metadata": {},
   "outputs": [
    {
     "data": {
      "text/plain": [
       "(0.08607154418905795, 0.10706482155863073)"
      ]
     },
     "execution_count": 29,
     "metadata": {},
     "output_type": "execute_result"
    }
   ],
   "source": [
    "y_train_pred = model.predict(X_train)\n",
    "y_test_pred = model.predict(X_test)\n",
    "\n",
    "np.mean(y_train != y_train_pred), np.mean(y_test != y_test_pred)"
   ]
  },
  {
   "cell_type": "markdown",
   "id": "ca54ae31",
   "metadata": {},
   "source": [
    "## 8. Другие классификаторы\n"
   ]
  },
  {
   "cell_type": "code",
   "execution_count": 30,
   "id": "6a6c04ca",
   "metadata": {},
   "outputs": [
    {
     "name": "stdout",
     "output_type": "stream",
     "text": [
      "0.055236322434444804 0.09456178684146638\n"
     ]
    }
   ],
   "source": [
    "from sklearn import ensemble\n",
    "gbt = ensemble.GradientBoostingClassifier(n_estimators = 1000)\n",
    "gbt.fit(X_train, y_train)\n",
    "\n",
    "err_train = np.mean(y_train != gbt.predict(X_train))\n",
    "err_test = np.mean(y_test != gbt.predict(X_test))\n",
    "\n",
    "print(err_train, err_test)"
   ]
  },
  {
   "cell_type": "code",
   "execution_count": 31,
   "id": "1ff16e66",
   "metadata": {},
   "outputs": [
    {
     "name": "stdout",
     "output_type": "stream",
     "text": [
      "0.09044189057947556 0.09711094925952901\n"
     ]
    }
   ],
   "source": [
    "ada = ensemble.AdaBoostClassifier(n_estimators = 1000)\n",
    "ada.fit(X_train, y_train)\n",
    "\n",
    "err_train = np.mean(y_train != ada.predict(X_train))\n",
    "err_test = np.mean(y_test != ada.predict(X_test))\n",
    "\n",
    "print(err_train, err_test)"
   ]
  },
  {
   "cell_type": "markdown",
   "id": "bf8beed6",
   "metadata": {},
   "source": [
    "## 9. Итоги\n",
    "\n",
    "В результа данной работы, было реализовано обучение модели, предсказывающей решение клиентов банка, а именно способность взять срочный депозит. Обучение проводилось с помощью метода k ближайших соседей (дополнительно использовались методы gbt и ada). \n",
    " \n",
    " В случае с методом k ближайших соседей, при подборе оптимальных параметров метода и предварительной обработки данных, был получен процент ошибок на обучающей выборке: 8.6%, на тестовой выборке: 10.7%. Т.к. в случае с клиентом банка, его решение обусловлено не только данными, приведенными в таблице, но и многими другими факторами (напрмер, текущей ситуацией с финансами, даже настроением и, к примеру, мнением окружающих его людей), то предсказание положительного результата, становится если и не невозможным, то крайне сложным, что и обуславливает пусть и не очень большой, но всё же в пределах 10-15% ошибок.   \n",
    " \n",
    "Кроме того, можно предположить, что при составлении таблицы авторы учли не все влияющие на исход признаки. \n",
    "Возможное улучшение результатов: применение другого метода обучения модели. К примеру, меод gbt показал себя чуть лучше, чем метод ближайших соседей, а вот метод ada, наоборот, показал ухудшение (т.е. увеличение) процента ошибок на обучающей выборке и небольшое улучшение на тестовой."
   ]
  },
  {
   "cell_type": "code",
   "execution_count": null,
   "id": "661ef1b8",
   "metadata": {},
   "outputs": [],
   "source": []
  }
 ],
 "metadata": {
  "kernelspec": {
   "display_name": "Python 3",
   "language": "python",
   "name": "python3"
  },
  "language_info": {
   "codemirror_mode": {
    "name": "ipython",
    "version": 3
   },
   "file_extension": ".py",
   "mimetype": "text/x-python",
   "name": "python",
   "nbconvert_exporter": "python",
   "pygments_lexer": "ipython3",
   "version": "3.8.8"
  }
 },
 "nbformat": 4,
 "nbformat_minor": 5
}
